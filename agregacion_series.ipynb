{
 "cells": [
  {
   "cell_type": "code",
   "execution_count": 10,
   "id": "daf0da7c-c226-40eb-b834-d97291d64542",
   "metadata": {},
   "outputs": [
    {
     "data": {
      "text/plain": [
       "25.625"
      ]
     },
     "execution_count": 10,
     "metadata": {},
     "output_type": "execute_result"
    }
   ],
   "source": [
    "import pandas as pd\n",
    "edades = [23, 30, 26, 27, 22, 24, 25, 28]\n",
    "serie_edades = pd.Series(edades)\n",
    "promedio_edades = serie_edades.mean()\n",
    "promedio_edades"
   ]
  },
  {
   "cell_type": "code",
   "execution_count": 24,
   "id": "e57def96-4624-40a4-9f26-3755e69de647",
   "metadata": {},
   "outputs": [],
   "source": [
    "ventas = [120, 150, 90, 200, 210, 130, 160]\n",
    "dias_semana = [\"Lunes\", \"Martes\", \"Miercoles\", \"Jueves\", \"Viernes\", \"Sabado\", \"Domingo\"]\n",
    "serie_dias_semana = pd.Series(dias_semana)\n",
    "ventas = pd.Series(ventas)\n",
    "suma_total_ventas = ventas.sum()\n",
    "dia_mayores_ventas = ventas.max()\n",
    "promedio_ventas = ventas.mean()\n",
    "\n"
   ]
  },
  {
   "cell_type": "code",
   "execution_count": 26,
   "id": "31298a7c-8ea1-4536-ad15-fb622235a85a",
   "metadata": {},
   "outputs": [],
   "source": [
    "# Serie de ventas del mes\n",
    "ventas_mes = pd.Series([220, 235, 260, 213, 202, 298, 265, 198, 220, 230, 190, 215, 275, 222, 218, 245, 233, 210, 290, 210,\n",
    "                        215, 220, 225, 230, 245, 250, 260, 270, 280, 295])\n",
    "\n",
    "total_ventas_mes = ventas_mes.sum()\n",
    "dia_ventas_mas_bajas = ventas_mes.min()\n",
    "promedio_ventas_mes = ventas_mes.mean()"
   ]
  }
 ],
 "metadata": {
  "kernelspec": {
   "display_name": "Python 3 (ipykernel)",
   "language": "python",
   "name": "python3"
  },
  "language_info": {
   "codemirror_mode": {
    "name": "ipython",
    "version": 3
   },
   "file_extension": ".py",
   "mimetype": "text/x-python",
   "name": "python",
   "nbconvert_exporter": "python",
   "pygments_lexer": "ipython3",
   "version": "3.12.4"
  }
 },
 "nbformat": 4,
 "nbformat_minor": 5
}
