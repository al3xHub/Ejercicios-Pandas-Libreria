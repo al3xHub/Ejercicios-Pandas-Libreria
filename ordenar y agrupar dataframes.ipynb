{
 "cells": [
  {
   "cell_type": "code",
   "execution_count": 3,
   "id": "ecd21b47-aff4-4411-b00a-465084e1ee9f",
   "metadata": {},
   "outputs": [],
   "source": [
    "import pandas as pd"
   ]
  },
  {
   "cell_type": "code",
   "execution_count": 6,
   "id": "4d7a79b5-a1c3-42e0-87e8-2d634fbd23e4",
   "metadata": {},
   "outputs": [
    {
     "data": {
      "text/plain": [
       "{'titulo': ['Pelicula A', 'Pelicula B', 'Pelicula C', 'Pelicula D'],\n",
       " 'año': [2001, 2000, 2005, 2010],\n",
       " 'rating': [7.2, 6.5, 8.1, 7.5]}"
      ]
     },
     "execution_count": 6,
     "metadata": {},
     "output_type": "execute_result"
    }
   ],
   "source": [
    "datos = {\n",
    "    'titulo': ['Pelicula A', 'Pelicula B', 'Pelicula C', 'Pelicula D'],\n",
    "    'año': [2001, 2000, 2005, 2010],\n",
    "    'rating': [7.2, 6.5, 8.1, 7.5]\n",
    "}\n",
    "datos"
   ]
  },
  {
   "cell_type": "code",
   "execution_count": 9,
   "id": "d9515241-c203-4c7b-922b-2a4019f2cf8b",
   "metadata": {},
   "outputs": [
    {
     "data": {
      "text/html": [
       "<div>\n",
       "<style scoped>\n",
       "    .dataframe tbody tr th:only-of-type {\n",
       "        vertical-align: middle;\n",
       "    }\n",
       "\n",
       "    .dataframe tbody tr th {\n",
       "        vertical-align: top;\n",
       "    }\n",
       "\n",
       "    .dataframe thead th {\n",
       "        text-align: right;\n",
       "    }\n",
       "</style>\n",
       "<table border=\"1\" class=\"dataframe\">\n",
       "  <thead>\n",
       "    <tr style=\"text-align: right;\">\n",
       "      <th></th>\n",
       "      <th>titulo</th>\n",
       "      <th>año</th>\n",
       "      <th>rating</th>\n",
       "    </tr>\n",
       "  </thead>\n",
       "  <tbody>\n",
       "    <tr>\n",
       "      <th>0</th>\n",
       "      <td>Pelicula A</td>\n",
       "      <td>2001</td>\n",
       "      <td>7.2</td>\n",
       "    </tr>\n",
       "    <tr>\n",
       "      <th>1</th>\n",
       "      <td>Pelicula B</td>\n",
       "      <td>2000</td>\n",
       "      <td>6.5</td>\n",
       "    </tr>\n",
       "    <tr>\n",
       "      <th>2</th>\n",
       "      <td>Pelicula C</td>\n",
       "      <td>2005</td>\n",
       "      <td>8.1</td>\n",
       "    </tr>\n",
       "    <tr>\n",
       "      <th>3</th>\n",
       "      <td>Pelicula D</td>\n",
       "      <td>2010</td>\n",
       "      <td>7.5</td>\n",
       "    </tr>\n",
       "  </tbody>\n",
       "</table>\n",
       "</div>"
      ],
      "text/plain": [
       "       titulo   año  rating\n",
       "0  Pelicula A  2001     7.2\n",
       "1  Pelicula B  2000     6.5\n",
       "2  Pelicula C  2005     8.1\n",
       "3  Pelicula D  2010     7.5"
      ]
     },
     "execution_count": 9,
     "metadata": {},
     "output_type": "execute_result"
    }
   ],
   "source": [
    "df = pd.DataFrame(datos)\n",
    "df"
   ]
  },
  {
   "cell_type": "code",
   "execution_count": 13,
   "id": "e910a565-93a5-4f00-9f1f-2f23d70f300e",
   "metadata": {},
   "outputs": [
    {
     "data": {
      "text/html": [
       "<div>\n",
       "<style scoped>\n",
       "    .dataframe tbody tr th:only-of-type {\n",
       "        vertical-align: middle;\n",
       "    }\n",
       "\n",
       "    .dataframe tbody tr th {\n",
       "        vertical-align: top;\n",
       "    }\n",
       "\n",
       "    .dataframe thead th {\n",
       "        text-align: right;\n",
       "    }\n",
       "</style>\n",
       "<table border=\"1\" class=\"dataframe\">\n",
       "  <thead>\n",
       "    <tr style=\"text-align: right;\">\n",
       "      <th></th>\n",
       "      <th>titulo</th>\n",
       "      <th>año</th>\n",
       "      <th>rating</th>\n",
       "    </tr>\n",
       "  </thead>\n",
       "  <tbody>\n",
       "    <tr>\n",
       "      <th>3</th>\n",
       "      <td>Pelicula D</td>\n",
       "      <td>2010</td>\n",
       "      <td>7.5</td>\n",
       "    </tr>\n",
       "    <tr>\n",
       "      <th>2</th>\n",
       "      <td>Pelicula C</td>\n",
       "      <td>2005</td>\n",
       "      <td>8.1</td>\n",
       "    </tr>\n",
       "    <tr>\n",
       "      <th>0</th>\n",
       "      <td>Pelicula A</td>\n",
       "      <td>2001</td>\n",
       "      <td>7.2</td>\n",
       "    </tr>\n",
       "    <tr>\n",
       "      <th>1</th>\n",
       "      <td>Pelicula B</td>\n",
       "      <td>2000</td>\n",
       "      <td>6.5</td>\n",
       "    </tr>\n",
       "  </tbody>\n",
       "</table>\n",
       "</div>"
      ],
      "text/plain": [
       "       titulo   año  rating\n",
       "3  Pelicula D  2010     7.5\n",
       "2  Pelicula C  2005     8.1\n",
       "0  Pelicula A  2001     7.2\n",
       "1  Pelicula B  2000     6.5"
      ]
     },
     "execution_count": 13,
     "metadata": {},
     "output_type": "execute_result"
    }
   ],
   "source": [
    "df_ordenado = df.sort_values(by='año', ascending=False)\n",
    "df_ordenado"
   ]
  },
  {
   "cell_type": "code",
   "execution_count": 15,
   "id": "cbd81124-4bd8-4492-b003-5f9dd4a86fca",
   "metadata": {},
   "outputs": [],
   "source": [
    "datos = {\n",
    "    'titulo': ['Pelicula A', 'Pelicula B', 'Pelicula C', 'Pelicula D'],\n",
    "    'año': [2001, 2000, 2005, 2010],\n",
    "    'rating': [7.2, 6.5, 8.1, 7.5]\n",
    "}\n",
    "df = pd.DataFrame(datos)"
   ]
  },
  {
   "cell_type": "code",
   "execution_count": 17,
   "id": "6d591cf3-95d6-4c25-bdc5-75ab11f78961",
   "metadata": {},
   "outputs": [
    {
     "data": {
      "text/html": [
       "<div>\n",
       "<style scoped>\n",
       "    .dataframe tbody tr th:only-of-type {\n",
       "        vertical-align: middle;\n",
       "    }\n",
       "\n",
       "    .dataframe tbody tr th {\n",
       "        vertical-align: top;\n",
       "    }\n",
       "\n",
       "    .dataframe thead th {\n",
       "        text-align: right;\n",
       "    }\n",
       "</style>\n",
       "<table border=\"1\" class=\"dataframe\">\n",
       "  <thead>\n",
       "    <tr style=\"text-align: right;\">\n",
       "      <th></th>\n",
       "      <th>titulo</th>\n",
       "      <th>año</th>\n",
       "      <th>rating</th>\n",
       "    </tr>\n",
       "  </thead>\n",
       "  <tbody>\n",
       "    <tr>\n",
       "      <th>2</th>\n",
       "      <td>Pelicula C</td>\n",
       "      <td>2005</td>\n",
       "      <td>8.1</td>\n",
       "    </tr>\n",
       "    <tr>\n",
       "      <th>3</th>\n",
       "      <td>Pelicula D</td>\n",
       "      <td>2010</td>\n",
       "      <td>7.5</td>\n",
       "    </tr>\n",
       "    <tr>\n",
       "      <th>0</th>\n",
       "      <td>Pelicula A</td>\n",
       "      <td>2001</td>\n",
       "      <td>7.2</td>\n",
       "    </tr>\n",
       "    <tr>\n",
       "      <th>1</th>\n",
       "      <td>Pelicula B</td>\n",
       "      <td>2000</td>\n",
       "      <td>6.5</td>\n",
       "    </tr>\n",
       "  </tbody>\n",
       "</table>\n",
       "</div>"
      ],
      "text/plain": [
       "       titulo   año  rating\n",
       "2  Pelicula C  2005     8.1\n",
       "3  Pelicula D  2010     7.5\n",
       "0  Pelicula A  2001     7.2\n",
       "1  Pelicula B  2000     6.5"
      ]
     },
     "execution_count": 17,
     "metadata": {},
     "output_type": "execute_result"
    }
   ],
   "source": [
    "df_ordenado = df.sort_values(by='rating', ascending=False)\n",
    "df_ordenado"
   ]
  },
  {
   "cell_type": "code",
   "execution_count": 19,
   "id": "8b581f81-1e6f-406c-a501-bc03e35cc56c",
   "metadata": {},
   "outputs": [
    {
     "data": {
      "text/html": [
       "<div>\n",
       "<style scoped>\n",
       "    .dataframe tbody tr th:only-of-type {\n",
       "        vertical-align: middle;\n",
       "    }\n",
       "\n",
       "    .dataframe tbody tr th {\n",
       "        vertical-align: top;\n",
       "    }\n",
       "\n",
       "    .dataframe thead th {\n",
       "        text-align: right;\n",
       "    }\n",
       "</style>\n",
       "<table border=\"1\" class=\"dataframe\">\n",
       "  <thead>\n",
       "    <tr style=\"text-align: right;\">\n",
       "      <th></th>\n",
       "      <th>titulo</th>\n",
       "      <th>año</th>\n",
       "      <th>rating</th>\n",
       "    </tr>\n",
       "  </thead>\n",
       "  <tbody>\n",
       "    <tr>\n",
       "      <th>1</th>\n",
       "      <td>Pelicula B</td>\n",
       "      <td>2000</td>\n",
       "      <td>6.5</td>\n",
       "    </tr>\n",
       "    <tr>\n",
       "      <th>0</th>\n",
       "      <td>Pelicula A</td>\n",
       "      <td>2001</td>\n",
       "      <td>7.2</td>\n",
       "    </tr>\n",
       "    <tr>\n",
       "      <th>2</th>\n",
       "      <td>Pelicula C</td>\n",
       "      <td>2005</td>\n",
       "      <td>8.1</td>\n",
       "    </tr>\n",
       "    <tr>\n",
       "      <th>3</th>\n",
       "      <td>Pelicula D</td>\n",
       "      <td>2010</td>\n",
       "      <td>7.5</td>\n",
       "    </tr>\n",
       "  </tbody>\n",
       "</table>\n",
       "</div>"
      ],
      "text/plain": [
       "       titulo   año  rating\n",
       "1  Pelicula B  2000     6.5\n",
       "0  Pelicula A  2001     7.2\n",
       "2  Pelicula C  2005     8.1\n",
       "3  Pelicula D  2010     7.5"
      ]
     },
     "execution_count": 19,
     "metadata": {},
     "output_type": "execute_result"
    }
   ],
   "source": [
    "df_ordenado = df.sort_values(by='año')\n",
    "df_ordenado"
   ]
  },
  {
   "cell_type": "code",
   "execution_count": 23,
   "id": "ded1d1df-6b80-4dff-aa8e-dad838743245",
   "metadata": {},
   "outputs": [],
   "source": [
    "datos = {\n",
    "    'titulo': ['Pelicula A', 'Pelicula B', 'Pelicula C', 'Pelicula D', 'Pelicula E'],\n",
    "    'género': ['Acción', 'Drama', 'Acción', 'Comedia', 'Drama'],\n",
    "    'rating': [7.2, 8.5, 9.1, 6.5, 7.8]\n",
    "}"
   ]
  },
  {
   "cell_type": "code",
   "execution_count": 25,
   "id": "2511e329-9a1d-439d-979d-a9334fc76295",
   "metadata": {},
   "outputs": [
    {
     "data": {
      "text/html": [
       "<div>\n",
       "<style scoped>\n",
       "    .dataframe tbody tr th:only-of-type {\n",
       "        vertical-align: middle;\n",
       "    }\n",
       "\n",
       "    .dataframe tbody tr th {\n",
       "        vertical-align: top;\n",
       "    }\n",
       "\n",
       "    .dataframe thead th {\n",
       "        text-align: right;\n",
       "    }\n",
       "</style>\n",
       "<table border=\"1\" class=\"dataframe\">\n",
       "  <thead>\n",
       "    <tr style=\"text-align: right;\">\n",
       "      <th></th>\n",
       "      <th>titulo</th>\n",
       "      <th>género</th>\n",
       "      <th>rating</th>\n",
       "    </tr>\n",
       "  </thead>\n",
       "  <tbody>\n",
       "    <tr>\n",
       "      <th>0</th>\n",
       "      <td>Pelicula A</td>\n",
       "      <td>Acción</td>\n",
       "      <td>7.2</td>\n",
       "    </tr>\n",
       "    <tr>\n",
       "      <th>1</th>\n",
       "      <td>Pelicula B</td>\n",
       "      <td>Drama</td>\n",
       "      <td>8.5</td>\n",
       "    </tr>\n",
       "    <tr>\n",
       "      <th>2</th>\n",
       "      <td>Pelicula C</td>\n",
       "      <td>Acción</td>\n",
       "      <td>9.1</td>\n",
       "    </tr>\n",
       "    <tr>\n",
       "      <th>3</th>\n",
       "      <td>Pelicula D</td>\n",
       "      <td>Comedia</td>\n",
       "      <td>6.5</td>\n",
       "    </tr>\n",
       "    <tr>\n",
       "      <th>4</th>\n",
       "      <td>Pelicula E</td>\n",
       "      <td>Drama</td>\n",
       "      <td>7.8</td>\n",
       "    </tr>\n",
       "  </tbody>\n",
       "</table>\n",
       "</div>"
      ],
      "text/plain": [
       "       titulo   género  rating\n",
       "0  Pelicula A   Acción     7.2\n",
       "1  Pelicula B    Drama     8.5\n",
       "2  Pelicula C   Acción     9.1\n",
       "3  Pelicula D  Comedia     6.5\n",
       "4  Pelicula E    Drama     7.8"
      ]
     },
     "execution_count": 25,
     "metadata": {},
     "output_type": "execute_result"
    }
   ],
   "source": [
    "df = pd.DataFrame(datos)\n",
    "df"
   ]
  },
  {
   "cell_type": "code",
   "execution_count": 31,
   "id": "94b90f72-554b-4277-8602-e95381e19f3f",
   "metadata": {},
   "outputs": [
    {
     "data": {
      "text/plain": [
       "género\n",
       "Acción     8.15\n",
       "Comedia    6.50\n",
       "Drama      8.15\n",
       "Name: rating, dtype: float64"
      ]
     },
     "execution_count": 31,
     "metadata": {},
     "output_type": "execute_result"
    }
   ],
   "source": [
    "promedio_rating_por_genero = df.groupby(by='género')['rating'].mean()\n",
    "promedio_rating_por_genero"
   ]
  }
 ],
 "metadata": {
  "kernelspec": {
   "display_name": "Python 3 (ipykernel)",
   "language": "python",
   "name": "python3"
  },
  "language_info": {
   "codemirror_mode": {
    "name": "ipython",
    "version": 3
   },
   "file_extension": ".py",
   "mimetype": "text/x-python",
   "name": "python",
   "nbconvert_exporter": "python",
   "pygments_lexer": "ipython3",
   "version": "3.12.4"
  }
 },
 "nbformat": 4,
 "nbformat_minor": 5
}
