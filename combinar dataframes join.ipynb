{
 "cells": [
  {
   "cell_type": "code",
   "execution_count": 1,
   "id": "285cfb4d-4716-4fec-a86f-c5837f5d81c4",
   "metadata": {},
   "outputs": [],
   "source": [
    "import pandas as pd"
   ]
  },
  {
   "cell_type": "code",
   "execution_count": 3,
   "id": "8f5f3d72-32fb-4eb3-8af7-bca0dd9057e5",
   "metadata": {},
   "outputs": [],
   "source": [
    "# Creación del DataFrame df_a\n",
    "df_a = pd.DataFrame({\n",
    "    'id': [1, 2, 3],\n",
    "    'Nombre': ['Ana', 'Beto', 'Carla']\n",
    "})\n",
    "df_a.set_index('id', inplace=True)\n",
    "\n",
    "# Creación del DataFrame df_b\n",
    "df_b = pd.DataFrame({\n",
    "    'id': [1, 2, 3],\n",
    "    'Edad': [25, 30, 35]\n",
    "})\n",
    "df_b.set_index('id', inplace=True)"
   ]
  },
  {
   "cell_type": "code",
   "execution_count": 5,
   "id": "c460a933-1b0b-4ca4-bf9c-212d3af4dcbd",
   "metadata": {},
   "outputs": [
    {
     "data": {
      "text/html": [
       "<div>\n",
       "<style scoped>\n",
       "    .dataframe tbody tr th:only-of-type {\n",
       "        vertical-align: middle;\n",
       "    }\n",
       "\n",
       "    .dataframe tbody tr th {\n",
       "        vertical-align: top;\n",
       "    }\n",
       "\n",
       "    .dataframe thead th {\n",
       "        text-align: right;\n",
       "    }\n",
       "</style>\n",
       "<table border=\"1\" class=\"dataframe\">\n",
       "  <thead>\n",
       "    <tr style=\"text-align: right;\">\n",
       "      <th></th>\n",
       "      <th>Nombre</th>\n",
       "      <th>Edad</th>\n",
       "    </tr>\n",
       "    <tr>\n",
       "      <th>id</th>\n",
       "      <th></th>\n",
       "      <th></th>\n",
       "    </tr>\n",
       "  </thead>\n",
       "  <tbody>\n",
       "    <tr>\n",
       "      <th>1</th>\n",
       "      <td>Ana</td>\n",
       "      <td>25</td>\n",
       "    </tr>\n",
       "    <tr>\n",
       "      <th>2</th>\n",
       "      <td>Beto</td>\n",
       "      <td>30</td>\n",
       "    </tr>\n",
       "    <tr>\n",
       "      <th>3</th>\n",
       "      <td>Carla</td>\n",
       "      <td>35</td>\n",
       "    </tr>\n",
       "  </tbody>\n",
       "</table>\n",
       "</div>"
      ],
      "text/plain": [
       "   Nombre  Edad\n",
       "id             \n",
       "1     Ana    25\n",
       "2    Beto    30\n",
       "3   Carla    35"
      ]
     },
     "execution_count": 5,
     "metadata": {},
     "output_type": "execute_result"
    }
   ],
   "source": [
    "df_combinado = df_a.join(df_b)\n",
    "df_combinado"
   ]
  },
  {
   "cell_type": "code",
   "execution_count": 7,
   "id": "f573472c-25aa-428b-b673-8b646b3c98c5",
   "metadata": {},
   "outputs": [],
   "source": [
    "productos_df = pd.DataFrame({\n",
    "    'ProductoID': [1, 2, 3, 4],\n",
    "    'Nombre': ['Producto 1', 'Producto 2', 'Producto 3', 'Producto 4'],\n",
    "    'Precio': [100, 150, 200, 250]\n",
    "}).set_index('ProductoID')\n",
    "\n",
    "categorias_df = pd.DataFrame({\n",
    "    'CategoriaID': [1, 2],\n",
    "    'NombreCategoria': ['Categoría 1', 'Categoría 2']\n",
    "}).set_index('CategoriaID')"
   ]
  },
  {
   "cell_type": "code",
   "execution_count": 15,
   "id": "9b47460b-74c6-4bd1-b875-82d739cad3cb",
   "metadata": {},
   "outputs": [
    {
     "data": {
      "text/html": [
       "<div>\n",
       "<style scoped>\n",
       "    .dataframe tbody tr th:only-of-type {\n",
       "        vertical-align: middle;\n",
       "    }\n",
       "\n",
       "    .dataframe tbody tr th {\n",
       "        vertical-align: top;\n",
       "    }\n",
       "\n",
       "    .dataframe thead th {\n",
       "        text-align: right;\n",
       "    }\n",
       "</style>\n",
       "<table border=\"1\" class=\"dataframe\">\n",
       "  <thead>\n",
       "    <tr style=\"text-align: right;\">\n",
       "      <th></th>\n",
       "      <th>Nombre</th>\n",
       "      <th>Precio</th>\n",
       "      <th>NombreCategoria</th>\n",
       "    </tr>\n",
       "    <tr>\n",
       "      <th>ProductoID</th>\n",
       "      <th></th>\n",
       "      <th></th>\n",
       "      <th></th>\n",
       "    </tr>\n",
       "  </thead>\n",
       "  <tbody>\n",
       "    <tr>\n",
       "      <th>1</th>\n",
       "      <td>Producto 1</td>\n",
       "      <td>100</td>\n",
       "      <td>Categoría 1</td>\n",
       "    </tr>\n",
       "    <tr>\n",
       "      <th>2</th>\n",
       "      <td>Producto 2</td>\n",
       "      <td>150</td>\n",
       "      <td>Categoría 2</td>\n",
       "    </tr>\n",
       "    <tr>\n",
       "      <th>3</th>\n",
       "      <td>Producto 3</td>\n",
       "      <td>200</td>\n",
       "      <td>NaN</td>\n",
       "    </tr>\n",
       "    <tr>\n",
       "      <th>4</th>\n",
       "      <td>Producto 4</td>\n",
       "      <td>250</td>\n",
       "      <td>NaN</td>\n",
       "    </tr>\n",
       "  </tbody>\n",
       "</table>\n",
       "</div>"
      ],
      "text/plain": [
       "                Nombre  Precio NombreCategoria\n",
       "ProductoID                                    \n",
       "1           Producto 1     100     Categoría 1\n",
       "2           Producto 2     150     Categoría 2\n",
       "3           Producto 3     200             NaN\n",
       "4           Producto 4     250             NaN"
      ]
     },
     "execution_count": 15,
     "metadata": {},
     "output_type": "execute_result"
    }
   ],
   "source": [
    "df_combinado = productos_df.join(categorias_df)\n",
    "df_combinado"
   ]
  },
  {
   "cell_type": "code",
   "execution_count": 17,
   "id": "1bf245f6-b423-43c8-bd19-b8693fa715a9",
   "metadata": {},
   "outputs": [],
   "source": [
    "productos_df = pd.DataFrame({\n",
    "    'ProductoID': [1, 2, 3, 4],\n",
    "    'Nombre': ['Producto 1', 'Producto 2', 'Producto 3', 'Producto 4'],\n",
    "    'Precio': [100, 150, 200, 250]\n",
    "})\n",
    "\n",
    "productos_df = productos_df.set_index('ProductoID')\n",
    "\n",
    "categorias_df = pd.DataFrame({\n",
    "    'CategoriaID': [1, 2, 3],\n",
    "    'NombreCategoria': ['Categoría 1', 'Categoría 2', 'Categoría 3']\n",
    "}).set_index('CategoriaID')"
   ]
  },
  {
   "cell_type": "code",
   "execution_count": 21,
   "id": "e6b80373-409d-4997-966b-98b69cb099d5",
   "metadata": {},
   "outputs": [
    {
     "data": {
      "text/html": [
       "<div>\n",
       "<style scoped>\n",
       "    .dataframe tbody tr th:only-of-type {\n",
       "        vertical-align: middle;\n",
       "    }\n",
       "\n",
       "    .dataframe tbody tr th {\n",
       "        vertical-align: top;\n",
       "    }\n",
       "\n",
       "    .dataframe thead th {\n",
       "        text-align: right;\n",
       "    }\n",
       "</style>\n",
       "<table border=\"1\" class=\"dataframe\">\n",
       "  <thead>\n",
       "    <tr style=\"text-align: right;\">\n",
       "      <th></th>\n",
       "      <th>Nombre</th>\n",
       "      <th>Precio</th>\n",
       "      <th>NombreCategoria</th>\n",
       "    </tr>\n",
       "    <tr>\n",
       "      <th>ProductoID</th>\n",
       "      <th></th>\n",
       "      <th></th>\n",
       "      <th></th>\n",
       "    </tr>\n",
       "  </thead>\n",
       "  <tbody>\n",
       "    <tr>\n",
       "      <th>1</th>\n",
       "      <td>Producto 1</td>\n",
       "      <td>100</td>\n",
       "      <td>Categoría 1</td>\n",
       "    </tr>\n",
       "    <tr>\n",
       "      <th>2</th>\n",
       "      <td>Producto 2</td>\n",
       "      <td>150</td>\n",
       "      <td>Categoría 2</td>\n",
       "    </tr>\n",
       "    <tr>\n",
       "      <th>3</th>\n",
       "      <td>Producto 3</td>\n",
       "      <td>200</td>\n",
       "      <td>Categoría 3</td>\n",
       "    </tr>\n",
       "    <tr>\n",
       "      <th>4</th>\n",
       "      <td>Producto 4</td>\n",
       "      <td>250</td>\n",
       "      <td>NaN</td>\n",
       "    </tr>\n",
       "  </tbody>\n",
       "</table>\n",
       "</div>"
      ],
      "text/plain": [
       "                Nombre  Precio NombreCategoria\n",
       "ProductoID                                    \n",
       "1           Producto 1     100     Categoría 1\n",
       "2           Producto 2     150     Categoría 2\n",
       "3           Producto 3     200     Categoría 3\n",
       "4           Producto 4     250             NaN"
      ]
     },
     "execution_count": 21,
     "metadata": {},
     "output_type": "execute_result"
    }
   ],
   "source": [
    "df_combinado = categorias_df.join(categorias_df, how='right')\n",
    "df_combinado"
   ]
  }
 ],
 "metadata": {
  "kernelspec": {
   "display_name": "Python 3 (ipykernel)",
   "language": "python",
   "name": "python3"
  },
  "language_info": {
   "codemirror_mode": {
    "name": "ipython",
    "version": 3
   },
   "file_extension": ".py",
   "mimetype": "text/x-python",
   "name": "python",
   "nbconvert_exporter": "python",
   "pygments_lexer": "ipython3",
   "version": "3.12.4"
  }
 },
 "nbformat": 4,
 "nbformat_minor": 5
}
