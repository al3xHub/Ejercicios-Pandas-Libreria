{
 "cells": [
  {
   "cell_type": "code",
   "execution_count": 1,
   "id": "1d1b6e9f-9140-4934-bec1-35e267c3d077",
   "metadata": {},
   "outputs": [],
   "source": [
    "import pandas as pd"
   ]
  },
  {
   "cell_type": "code",
   "execution_count": 3,
   "id": "850a65ed-e2cb-4303-8c4f-7c27d0cf255c",
   "metadata": {},
   "outputs": [],
   "source": [
    "serie_numeros = [1,2,3,4,5,6,7,8,9,10,11,12,13,14,15,16,17,18,19,20]"
   ]
  },
  {
   "cell_type": "code",
   "execution_count": 7,
   "id": "bce3f436-bebc-4370-9b5d-c53befded628",
   "metadata": {},
   "outputs": [
    {
     "data": {
      "text/plain": [
       "0      1\n",
       "1      2\n",
       "2      3\n",
       "3      4\n",
       "4      5\n",
       "5      6\n",
       "6      7\n",
       "7      8\n",
       "8      9\n",
       "9     10\n",
       "10    11\n",
       "11    12\n",
       "12    13\n",
       "13    14\n",
       "14    15\n",
       "15    16\n",
       "16    17\n",
       "17    18\n",
       "18    19\n",
       "19    20\n",
       "dtype: int64"
      ]
     },
     "execution_count": 7,
     "metadata": {},
     "output_type": "execute_result"
    }
   ],
   "source": [
    "serie_numeros = pd.Series(serie_numeros)\n",
    "serie_numeros"
   ]
  },
  {
   "cell_type": "code",
   "execution_count": 19,
   "id": "f107e8d4-c7d0-4c5a-ab38-17ff919e4b24",
   "metadata": {},
   "outputs": [
    {
     "data": {
      "text/plain": [
       "10    11\n",
       "11    12\n",
       "12    13\n",
       "13    14\n",
       "14    15\n",
       "15    16\n",
       "16    17\n",
       "17    18\n",
       "18    19\n",
       "19    20\n",
       "dtype: int64"
      ]
     },
     "execution_count": 19,
     "metadata": {},
     "output_type": "execute_result"
    }
   ],
   "source": [
    "filtro = serie_numeros > 10\n",
    "serie_numeros[filtro]"
   ]
  },
  {
   "cell_type": "code",
   "execution_count": 21,
   "id": "76ad6d58-9cd7-47ae-a4f1-15bcb6fdbfd2",
   "metadata": {},
   "outputs": [
    {
     "data": {
      "text/plain": [
       "0    18\n",
       "1    22\n",
       "2     7\n",
       "3     9\n",
       "4    15\n",
       "5     8\n",
       "dtype: int64"
      ]
     },
     "execution_count": 21,
     "metadata": {},
     "output_type": "execute_result"
    }
   ],
   "source": [
    "valores = pd.Series([18, 22, 7, 9, 15, 8])\n",
    "valores"
   ]
  },
  {
   "cell_type": "code",
   "execution_count": 23,
   "id": "5f737554-a16a-4183-ab97-e9e934267994",
   "metadata": {},
   "outputs": [
    {
     "data": {
      "text/plain": [
       "0    18\n",
       "1    22\n",
       "5     8\n",
       "dtype: int64"
      ]
     },
     "execution_count": 23,
     "metadata": {},
     "output_type": "execute_result"
    }
   ],
   "source": [
    "valores_pares = valores % 2 == 0\n",
    "valores[valores_pares]"
   ]
  },
  {
   "cell_type": "code",
   "execution_count": 25,
   "id": "f5fb671f-6f57-46af-a904-c7776437c678",
   "metadata": {},
   "outputs": [
    {
     "data": {
      "text/plain": [
       "0      manzana\n",
       "1       banana\n",
       "2       cereza\n",
       "3      durazno\n",
       "4    frambuesa\n",
       "dtype: object"
      ]
     },
     "execution_count": 25,
     "metadata": {},
     "output_type": "execute_result"
    }
   ],
   "source": [
    "frutas = pd.Series([\"manzana\", \"banana\", \"cereza\", \"durazno\", \"frambuesa\"])\n",
    "frutas"
   ]
  },
  {
   "cell_type": "code",
   "execution_count": 31,
   "id": "7280fa3a-36a3-47f9-bfd4-df8f5306f52f",
   "metadata": {},
   "outputs": [
    {
     "data": {
      "text/plain": [
       "2       cereza\n",
       "4    frambuesa\n",
       "dtype: object"
      ]
     },
     "execution_count": 31,
     "metadata": {},
     "output_type": "execute_result"
    }
   ],
   "source": [
    "frutas_e = frutas.str.contains('e')\n",
    "frutas[frutas_e]"
   ]
  }
 ],
 "metadata": {
  "kernelspec": {
   "display_name": "Python 3 (ipykernel)",
   "language": "python",
   "name": "python3"
  },
  "language_info": {
   "codemirror_mode": {
    "name": "ipython",
    "version": 3
   },
   "file_extension": ".py",
   "mimetype": "text/x-python",
   "name": "python",
   "nbconvert_exporter": "python",
   "pygments_lexer": "ipython3",
   "version": "3.12.4"
  }
 },
 "nbformat": 4,
 "nbformat_minor": 5
}
