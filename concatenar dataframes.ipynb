{
 "cells": [
  {
   "cell_type": "code",
   "execution_count": 1,
   "id": "4a778c81-8eaa-48d9-9123-0fc439f98b30",
   "metadata": {},
   "outputs": [],
   "source": [
    "import pandas as pd"
   ]
  },
  {
   "cell_type": "code",
   "execution_count": 3,
   "id": "89ee871f-627b-4cc4-867d-02128d181bd7",
   "metadata": {},
   "outputs": [],
   "source": [
    "ventas_enero = pd.DataFrame({'Producto': [\"Manzanas\", \"Bananas\", \"Naranjas\"], 'Cantidad': [300, 200, 150]})\n",
    "ventas_febrero = pd.DataFrame({'Producto': [\"Manzanas\", \"Bananas\", \"Naranjas\"], 'Cantidad': [350, 210, 170]})"
   ]
  },
  {
   "cell_type": "code",
   "execution_count": 17,
   "id": "21eebdae-7eda-4c8d-9657-141df7bc84d1",
   "metadata": {},
   "outputs": [
    {
     "data": {
      "text/html": [
       "<div>\n",
       "<style scoped>\n",
       "    .dataframe tbody tr th:only-of-type {\n",
       "        vertical-align: middle;\n",
       "    }\n",
       "\n",
       "    .dataframe tbody tr th {\n",
       "        vertical-align: top;\n",
       "    }\n",
       "\n",
       "    .dataframe thead th {\n",
       "        text-align: right;\n",
       "    }\n",
       "</style>\n",
       "<table border=\"1\" class=\"dataframe\">\n",
       "  <thead>\n",
       "    <tr style=\"text-align: right;\">\n",
       "      <th></th>\n",
       "      <th>Producto</th>\n",
       "      <th>Cantidad</th>\n",
       "    </tr>\n",
       "  </thead>\n",
       "  <tbody>\n",
       "    <tr>\n",
       "      <th>0</th>\n",
       "      <td>Manzanas</td>\n",
       "      <td>300</td>\n",
       "    </tr>\n",
       "    <tr>\n",
       "      <th>1</th>\n",
       "      <td>Bananas</td>\n",
       "      <td>200</td>\n",
       "    </tr>\n",
       "    <tr>\n",
       "      <th>2</th>\n",
       "      <td>Naranjas</td>\n",
       "      <td>150</td>\n",
       "    </tr>\n",
       "    <tr>\n",
       "      <th>3</th>\n",
       "      <td>Manzanas</td>\n",
       "      <td>350</td>\n",
       "    </tr>\n",
       "    <tr>\n",
       "      <th>4</th>\n",
       "      <td>Bananas</td>\n",
       "      <td>210</td>\n",
       "    </tr>\n",
       "    <tr>\n",
       "      <th>5</th>\n",
       "      <td>Naranjas</td>\n",
       "      <td>170</td>\n",
       "    </tr>\n",
       "  </tbody>\n",
       "</table>\n",
       "</div>"
      ],
      "text/plain": [
       "   Producto  Cantidad\n",
       "0  Manzanas       300\n",
       "1   Bananas       200\n",
       "2  Naranjas       150\n",
       "3  Manzanas       350\n",
       "4   Bananas       210\n",
       "5  Naranjas       170"
      ]
     },
     "execution_count": 17,
     "metadata": {},
     "output_type": "execute_result"
    }
   ],
   "source": [
    "ventas_total = pd.concat([ventas_enero, ventas_febrero], ignore_index=True)\n",
    "ventas_total"
   ]
  },
  {
   "cell_type": "code",
   "execution_count": 19,
   "id": "304ba84c-7331-41f8-83df-ef362acb1912",
   "metadata": {},
   "outputs": [],
   "source": [
    "datos_cliente = pd.DataFrame({'Nombre': [\"Ana\", \"Luis\", \"Marta\"], 'Edad': [34, 45, 28]})\n",
    "compras_cliente = pd.DataFrame({'Producto': [\"Libro\", \"Lápiz\", \"Cuaderno\"], 'Precio': [15.50, 0.50, 2.00]})"
   ]
  },
  {
   "cell_type": "code",
   "execution_count": 23,
   "id": "5a074016-c728-4007-99a4-2a4721d86228",
   "metadata": {},
   "outputs": [
    {
     "data": {
      "text/html": [
       "<div>\n",
       "<style scoped>\n",
       "    .dataframe tbody tr th:only-of-type {\n",
       "        vertical-align: middle;\n",
       "    }\n",
       "\n",
       "    .dataframe tbody tr th {\n",
       "        vertical-align: top;\n",
       "    }\n",
       "\n",
       "    .dataframe thead th {\n",
       "        text-align: right;\n",
       "    }\n",
       "</style>\n",
       "<table border=\"1\" class=\"dataframe\">\n",
       "  <thead>\n",
       "    <tr style=\"text-align: right;\">\n",
       "      <th></th>\n",
       "      <th>Nombre</th>\n",
       "      <th>Edad</th>\n",
       "      <th>Producto</th>\n",
       "      <th>Precio</th>\n",
       "    </tr>\n",
       "  </thead>\n",
       "  <tbody>\n",
       "    <tr>\n",
       "      <th>0</th>\n",
       "      <td>Ana</td>\n",
       "      <td>34</td>\n",
       "      <td>Libro</td>\n",
       "      <td>15.5</td>\n",
       "    </tr>\n",
       "    <tr>\n",
       "      <th>1</th>\n",
       "      <td>Luis</td>\n",
       "      <td>45</td>\n",
       "      <td>Lápiz</td>\n",
       "      <td>0.5</td>\n",
       "    </tr>\n",
       "    <tr>\n",
       "      <th>2</th>\n",
       "      <td>Marta</td>\n",
       "      <td>28</td>\n",
       "      <td>Cuaderno</td>\n",
       "      <td>2.0</td>\n",
       "    </tr>\n",
       "  </tbody>\n",
       "</table>\n",
       "</div>"
      ],
      "text/plain": [
       "  Nombre  Edad  Producto  Precio\n",
       "0    Ana    34     Libro    15.5\n",
       "1   Luis    45     Lápiz     0.5\n",
       "2  Marta    28  Cuaderno     2.0"
      ]
     },
     "execution_count": 23,
     "metadata": {},
     "output_type": "execute_result"
    }
   ],
   "source": [
    "info_cliente = pd.concat([datos_cliente, compras_cliente], axis=1)\n",
    "info_cliente"
   ]
  },
  {
   "cell_type": "code",
   "execution_count": 25,
   "id": "d4324062-4392-4287-aee1-acf2fcb82e2f",
   "metadata": {},
   "outputs": [],
   "source": [
    "tienda_a = pd.DataFrame({'Producto': [\"Manzanas\", \"Bananas\"], 'Cantidad': [500, 300]})\n",
    "tienda_b = pd.DataFrame({'Producto': [\"Naranjas\", \"Peras\"], 'Cantidad': [400, 250]})"
   ]
  },
  {
   "cell_type": "code",
   "execution_count": 33,
   "id": "110dac1f-4430-42ac-815b-c8ab0a4e120d",
   "metadata": {},
   "outputs": [
    {
     "data": {
      "text/html": [
       "<div>\n",
       "<style scoped>\n",
       "    .dataframe tbody tr th:only-of-type {\n",
       "        vertical-align: middle;\n",
       "    }\n",
       "\n",
       "    .dataframe tbody tr th {\n",
       "        vertical-align: top;\n",
       "    }\n",
       "\n",
       "    .dataframe thead th {\n",
       "        text-align: right;\n",
       "    }\n",
       "</style>\n",
       "<table border=\"1\" class=\"dataframe\">\n",
       "  <thead>\n",
       "    <tr style=\"text-align: right;\">\n",
       "      <th></th>\n",
       "      <th></th>\n",
       "      <th>Producto</th>\n",
       "      <th>Cantidad</th>\n",
       "    </tr>\n",
       "  </thead>\n",
       "  <tbody>\n",
       "    <tr>\n",
       "      <th rowspan=\"2\" valign=\"top\">Tienda A</th>\n",
       "      <th>0</th>\n",
       "      <td>Manzanas</td>\n",
       "      <td>500</td>\n",
       "    </tr>\n",
       "    <tr>\n",
       "      <th>1</th>\n",
       "      <td>Bananas</td>\n",
       "      <td>300</td>\n",
       "    </tr>\n",
       "    <tr>\n",
       "      <th rowspan=\"2\" valign=\"top\">Tienda B</th>\n",
       "      <th>0</th>\n",
       "      <td>Naranjas</td>\n",
       "      <td>400</td>\n",
       "    </tr>\n",
       "    <tr>\n",
       "      <th>1</th>\n",
       "      <td>Peras</td>\n",
       "      <td>250</td>\n",
       "    </tr>\n",
       "  </tbody>\n",
       "</table>\n",
       "</div>"
      ],
      "text/plain": [
       "            Producto  Cantidad\n",
       "Tienda A 0  Manzanas       500\n",
       "         1   Bananas       300\n",
       "Tienda B 0  Naranjas       400\n",
       "         1     Peras       250"
      ]
     },
     "execution_count": 33,
     "metadata": {},
     "output_type": "execute_result"
    }
   ],
   "source": [
    "ventas_tienda = pd.concat([tienda_a, tienda_b], keys=[\"Tienda A\", \"Tienda B\"])\n",
    "ventas_tienda"
   ]
  }
 ],
 "metadata": {
  "kernelspec": {
   "display_name": "Python 3 (ipykernel)",
   "language": "python",
   "name": "python3"
  },
  "language_info": {
   "codemirror_mode": {
    "name": "ipython",
    "version": 3
   },
   "file_extension": ".py",
   "mimetype": "text/x-python",
   "name": "python",
   "nbconvert_exporter": "python",
   "pygments_lexer": "ipython3",
   "version": "3.12.4"
  }
 },
 "nbformat": 4,
 "nbformat_minor": 5
}
